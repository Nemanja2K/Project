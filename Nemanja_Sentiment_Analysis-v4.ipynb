{
 "cells": [
  {
   "cell_type": "markdown",
   "metadata": {},
   "source": [
    "# Import the necessary modules"
   ]
  },
  {
   "cell_type": "code",
   "execution_count": 1,
   "metadata": {},
   "outputs": [],
   "source": [
    "##########################\n",
    "#Importing necessary Modules\n",
    "##########################\n",
    "import urllib.request as urllib2 # to download websites\n",
    "\n",
    "import numpy as np\n",
    "\n",
    "import re\n",
    "import nltk.corpus\n",
    "import nltk\n",
    "import matplotlib.pyplot as plt\n",
    "\n",
    "\n",
    "import matplotlib.pyplot as plt\n",
    "import pandas as pd\n",
    "from pandas import DataFrame\n",
    "import collections\n",
    "\n",
    "from bs4 import BeautifulSoup # to parse the websites\n",
    "from nltk.sentiment.vader import SentimentIntensityAnalyzer\n",
    "\n",
    "from nltk.tokenize import PunktSentenceTokenizer\n",
    "from nltk.tokenize import word_tokenize\n",
    "from nltk.corpus import stopwords\n",
    "\n",
    "from nltk.stem import PorterStemmer\n",
    "from nltk import FreqDist\n",
    "from nltk.probability import FreqDist\n",
    "\n",
    "\n",
    "from collections import Counter\n",
    "\n",
    "from nltk.tokenize import word_tokenize\n",
    "\n",
    "from nltk.tag import pos_tag\n",
    "from nltk.stem import PorterStemmer\n",
    "porter = PorterStemmer()\n",
    "\n",
    "\n"
   ]
  },
  {
   "cell_type": "markdown",
   "metadata": {},
   "source": [
    "# Get text data from the webpage"
   ]
  },
  {
   "cell_type": "code",
   "execution_count": 2,
   "metadata": {},
   "outputs": [],
   "source": [
    "# Extracting the text from the page\n",
    "\n",
    "#url = \"http://edition.cnn.com/2018/01/21/politics/macron-trump-relationship-intl/index.html\"\n",
    "#url = \"http://edition.cnn.com/2018/01/29/asia/cambodia-arrests-intl/index.html?iid=ob_lockedrail_topeditorial\"\n",
    "#url = \"https://www.state.gov/r/pa/prs/ps/2017/12/276632.htm\"\n",
    "#url = \"http://www.bbc.com/news/uk-england-lancashire-42857155\"\n",
    "#url = \"http://www.bbc.com/sport/tennis/42852967\"\n",
    "#url = \"https://www.stopbullying.gov/what-is-bullying/index.html\"\n",
    "#url = \"http://www.bbc.com/news/world-europe-34818994\"\n",
    "#url = \"http://longnow.org/essays/technology-moving-too-fast/\"\n",
    "#url = \"https://en.wikipedia.org/wiki/Child_abuse\"\n",
    "#url = \"https://www.gatesnotes.com/Saving-Lives\"\n",
    "#url = \"http://www.dictionary.com/browse/pencil?s=t\"\n",
    "#url = \"https://www.snopes.com/dog-saves-abandoned-newborn/\"\n",
    "url = \"https://journals.lww.com/ajnonline/Abstract/2016/10000/Helping_Elders__Age_in_Place_.15.aspx\"\n",
    "#url = \"http://www.redcross.ca/how-we-help/international-programs/maternal--newborn-and-child-health/long-term-maternal--newborn-and-child-health-programs/maternal--newborn-and-child-health-in-africa\"\n",
    "#url = \"https://gentwenty.com/role-modeling-paving-the-way-for-younger-siblings/\"\n",
    "#url = \"http://www.missbizibee.com/golden-celebration-60th-birthday-party-ideas-mom/\"\n",
    "#url = \"https://www.lifesitenews.com/news/canadian-bishops-call-for-law-to-offer-protection-for-the-lives-of-the-unbo\"\n",
    "#url = \"https://www.nature.com/scitable/knowledge/library/factors-affecting-global-climate-17079163\"\n",
    "#url = \"https://www.thesun.co.uk/news/3799392/grenfell-tower-fire-victims-death-toll-how-many-died-london/\"\n",
    "#url = \"http://darkoutpost.com/history/the-real-story-behind-the-texas-chainsaw-massacre-the-notorious-killer-ed-gein/\"\n",
    "#url = \"https://www.snopes.com/creepy-clown-haunted-house-massacre/\"\n",
    "#url = \"https://www.forbes.com/sites/jamesconca/2013/09/29/forget-eagle-deaths-wind-turbines-kill-humans/#2aed68c05467\"\n",
    "#url = \"https://en.wikipedia.org/wiki/Silver_(color)\"\n",
    "#url = \"https://en.wikipedia.org/wiki/Wood\"\n",
    "#url = \"https://en.wikipedia.org/wiki/Glass\"\n",
    "#url = \"https://en.wikipedia.org/wiki/Picture_frame\"\n",
    "# url = \"https://en.wikipedia.org/wiki/Door\"\n",
    "html = urllib2.urlopen(url).read()\n",
    "\n",
    "# Using BeautifulSoap\n",
    "\n",
    "soup = BeautifulSoup(html, \"html.parser\")\n",
    "for line in soup([\"script\", \"style\"]):     \n",
    "    line.extract()\n",
    "    \n",
    "    \n",
    "text = soup.get_text()\n",
    "\n",
    "text1 = str(text)\n"
   ]
  },
  {
   "cell_type": "markdown",
   "metadata": {},
   "source": [
    "# Process the text"
   ]
  },
  {
   "cell_type": "code",
   "execution_count": 3,
   "metadata": {
    "collapsed": true
   },
   "outputs": [],
   "source": [
    "#tokenize all the words and remove the stop words\n",
    "words_punt=  [word.lower() for word in word_tokenize(text) if word not in stopwords.words(\"english\")]\n",
    "#removes punctuations and special charechters\n",
    "words = [word for word in words_punt if word.isalpha()]\n",
    "#stemming\n",
    "# words = [ porter.stem(i) for i in words]\n",
    "\n",
    "\n"
   ]
  },
  {
   "cell_type": "markdown",
   "metadata": {},
   "source": [
    "# Frequency Calculation"
   ]
  },
  {
   "cell_type": "code",
   "execution_count": 4,
   "metadata": {
    "collapsed": true
   },
   "outputs": [],
   "source": [
    "# frequency distribution of words\n",
    "\n",
    "# A dataframe with words and frequency\n",
    "\n",
    "\n",
    "counts = Counter(words)\n",
    "\n",
    "df = pd.DataFrame()\n",
    "df['Words'] = counts.keys()\n",
    "df['Frequency'] = counts.values()\n",
    "\n",
    "# The table for frequency-plotting\n",
    "\n",
    "dfs= df.sort_values(['Frequency', 'Words'], ascending = False)\n",
    "df10 = df.head(10)\n"
   ]
  },
  {
   "cell_type": "markdown",
   "metadata": {},
   "source": [
    "# Calculate the sentiment"
   ]
  },
  {
   "cell_type": "code",
   "execution_count": 5,
   "metadata": {},
   "outputs": [
    {
     "data": {
      "image/png": "[encoded data removed]",
      "text/plain": [
       "<matplotlib.figure.Figure at 0x87647b8>"
      ]
     },
     "metadata": {},
     "output_type": "display_data"
    }
   ],
   "source": [
    "items = df10['Words']\n",
    "y_pos = np.arange(len(items))\n",
    "scores = df10['Frequency']\n",
    "plt.barh(y_pos, scores)\n",
    "plt.title('Frequencies of words presented by a diagram')\n",
    "plt.ylabel('Words')\n",
    "plt.yticks(y_pos, items)\n",
    "plt.xlabel('Frequencies')\n",
    "plt.show()\n"
   ]
  },
  {
   "cell_type": "markdown",
   "metadata": {},
   "source": [
    "# Positive and Negative sentiment words"
   ]
  },
  {
   "cell_type": "code",
   "execution_count": 6,
   "metadata": {
    "collapsed": true
   },
   "outputs": [],
   "source": [
    "\n",
    "sid = SentimentIntensityAnalyzer()\n",
    "pwl=[]\n",
    "nwl=[]\n",
    "\n",
    "# Setting the value of the words,the less it is, the more words will show up, but it won't be so accurate that way \n",
    "\n",
    "for word in words:\n",
    "    if (sid.polarity_scores(word)['compound']) >= 0.3:\n",
    "        pwl.append(word)\n",
    "    elif (sid.polarity_scores(word)['compound']) <= -0.3:\n",
    "        nwl.append(word)\n"
   ]
  },
  {
   "cell_type": "markdown",
   "metadata": {},
   "source": [
    "# Part of speech tagging"
   ]
  },
  {
   "cell_type": "code",
   "execution_count": 7,
   "metadata": {
    "collapsed": true
   },
   "outputs": [],
   "source": [
    "#part of speech tagging\n",
    "pst= nltk.pos_tag(words)"
   ]
  },
  {
   "cell_type": "markdown",
   "metadata": {},
   "source": [
    "# Verbs in the list"
   ]
  },
  {
   "cell_type": "code",
   "execution_count": 8,
   "metadata": {
    "collapsed": true
   },
   "outputs": [],
   "source": [
    "mylist_verbs = []\n",
    "for list in pst:\n",
    "    (a,b) = list\n",
    "    if b in ['VB', 'VBD', 'VBG', 'VBN', 'VBP', 'VBZ']:\n",
    "         mylist_verbs.append(str(list[0]))\n"
   ]
  },
  {
   "cell_type": "markdown",
   "metadata": {},
   "source": [
    "# Adjectives in the list"
   ]
  },
  {
   "cell_type": "code",
   "execution_count": 9,
   "metadata": {
    "collapsed": true
   },
   "outputs": [],
   "source": [
    "mylist_adj = []\n",
    "for list in pst:\n",
    "    (a,b) = list\n",
    "    if b in ['JJ', 'JJR', 'JJS']:\n",
    "         mylist_adj.append(str(list[0]))\n"
   ]
  },
  {
   "cell_type": "markdown",
   "metadata": {},
   "source": [
    "# Nouns in the list"
   ]
  },
  {
   "cell_type": "code",
   "execution_count": 10,
   "metadata": {
    "collapsed": true
   },
   "outputs": [],
   "source": [
    "mylist_nouns = []\n",
    "for list in pst:\n",
    "    (a,b) = list\n",
    "    if b in ['NN', 'NNP', 'NNS', 'NNPS']:\n",
    "         mylist_nouns.append(str(list[0]))\n"
   ]
  },
  {
   "cell_type": "markdown",
   "metadata": {},
   "source": [
    "# Positive and Negative verbs"
   ]
  },
  {
   "cell_type": "code",
   "execution_count": 11,
   "metadata": {
    "collapsed": true
   },
   "outputs": [],
   "source": [
    "mylist_verbs\n",
    "\n",
    "sid = SentimentIntensityAnalyzer()\n",
    "pos_verbs_list=[]\n",
    "neg_verbs_list=[]\n",
    "neu_verbs_list=[]\n",
    "\n",
    "# Setting the value of the words,the less it is, the more words will show up, but it won't be so accurate that way \n",
    "\n",
    "for word in mylist_verbs:\n",
    "    if (sid.polarity_scores(word)['compound']) >= 0.3:\n",
    "        pos_verbs_list.append(word)\n",
    "    elif (sid.polarity_scores(word)['compound']) <= -0.3:\n",
    "        neg_verbs_list.append(word)\n",
    "    else:\n",
    "        neu_verbs_list.append(word)\n",
    "\n",
    "\n",
    "ca = Counter(pos_verbs_list)\n"
   ]
  },
  {
   "cell_type": "markdown",
   "metadata": {},
   "source": [
    "# Positive and Negative adjectives"
   ]
  },
  {
   "cell_type": "code",
   "execution_count": 12,
   "metadata": {
    "collapsed": true
   },
   "outputs": [],
   "source": [
    "\n",
    "sid = SentimentIntensityAnalyzer()\n",
    "pos_adj_list=[]\n",
    "neg_adj_list=[]\n",
    "neu_adj_list=[]\n",
    "\n",
    "# Setting the value of the words,the less it is, the more words will show up, but it won't be so accurate that way \n",
    "\n",
    "for word in mylist_adj:\n",
    "    if (sid.polarity_scores(word)['compound']) >= 0.3:\n",
    "        pos_adj_list.append(word)\n",
    "    elif (sid.polarity_scores(word)['compound']) <= -0.3:\n",
    "        neg_adj_list.append(word)\n",
    "    else:\n",
    "        neu_adj_list.append(word)\n",
    "        \n",
    "\n",
    "\n",
    "ca = Counter(pos_adj_list)\n"
   ]
  },
  {
   "cell_type": "markdown",
   "metadata": {},
   "source": [
    "# Positive and Negative nouns"
   ]
  },
  {
   "cell_type": "code",
   "execution_count": 13,
   "metadata": {
    "collapsed": true
   },
   "outputs": [],
   "source": [
    "\n",
    "\n",
    "sid = SentimentIntensityAnalyzer()\n",
    "pos_nouns_list=[]\n",
    "neg_nouns_list=[]\n",
    "neu_nouns_list=[]\n",
    "\n",
    "\n",
    "# Setting the value of the words,the less it is, the more words will show up, but it won't be so accurate that way \n",
    "\n",
    "for word in mylist_nouns:\n",
    "    if (sid.polarity_scores(word)['compound']) >= 0.3:\n",
    "        pos_nouns_list.append(word)\n",
    "    elif (sid.polarity_scores(word)['compound']) <= -0.3:\n",
    "        neg_nouns_list.append(word)\n",
    "    else:\n",
    "        neu_nouns_list.append(word)\n",
    "\n",
    "# Printing\n",
    "\n"
   ]
  },
  {
   "cell_type": "code",
   "execution_count": 14,
   "metadata": {
    "collapsed": true
   },
   "outputs": [],
   "source": [
    "\n",
    "essays = pst\n",
    "nouns = [word for word,pos in pst\\\n",
    "\tif (pos == 'NN')]\n",
    "#print(nouns)\n",
    "#downcased = [x.lower() for x in nouns]\n",
    "#joined = \" \".join(downcased).encode('utf-8')\n",
    "#into_string = str(nouns)\n",
    "#print(nouns)\n",
    "#downcased = [x.lower() for x in nouns]\n",
    "#joined = \" \".join(downcased).encode('utf-8')\n",
    "#into_string = str(nouns)\n",
    "\n",
    "counts_noun= Counter(nouns)\n",
    "\n",
    "\n",
    "# dict = {'Nouns':[list(counts_noun.keys())], 'Frequency':counts_noun.values()}\n",
    "df_noun= pd.DataFrame()\n",
    "df_noun['Nouns']= counts_noun.keys()\n",
    "df_noun['Frequency']= counts_noun.values()\n",
    "\n",
    "dfs_noun = df_noun.sort_values(['Frequency', 'Nouns'], ascending = False)\n",
    "df5 = df.head(5)\n",
    "\n",
    "\n",
    "\n"
   ]
  },
  {
   "cell_type": "code",
   "execution_count": 15,
   "metadata": {},
   "outputs": [
    {
     "name": "stdout",
     "output_type": "stream",
     "text": [
      "++++++++++++++++++++++++++++++++++++++++++++++++++++++++++++++++++++++++++++++++++++++++++++++++++++\n",
      "The text has a positive statement. \n",
      "The most frequently used nouns are: \n",
      "\n",
      " [('colleague', 20), ('email', 12), ('article', 12), ('journal', 10), ('message', 10)] \n",
      "\n",
      "The most frequently used positive adjectives are:\n",
      "\n",
      " [('healthy', 1)] \n",
      "\n",
      "The most frequently used positive verbs are:\n",
      "\n",
      " [('appreciate', 5), ('save', 2), ('secured', 1), ('saved', 1), ('caring', 1)]\n",
      "++++++++++++++++++++++++++++++++++++++++++++++++++++++++++++++++++++++++++++++++++++++++++++++++++++\n"
     ]
    }
   ],
   "source": [
    "analyser = SentimentIntensityAnalyzer()\n",
    "def print_sentiment_scores(sentence):\n",
    "    snt = analyser.polarity_scores(sentence)\n",
    "\n",
    "    return snt['compound']\n",
    "#    print(snt)\n",
    "    \n",
    "\n",
    "max_sent = print_sentiment_scores(text)\n",
    "\n",
    "if max_sent >= 0.5:\n",
    "        print('+'*100)\n",
    "\n",
    "        print('The text has a positive statement.', '\\nThe most frequently used nouns are: \\n\\n', Counter(nouns).most_common(5), '\\n\\nThe most frequently used positive adjectives are:\\n\\n', Counter(pos_adj_list).most_common(5), '\\n\\nThe most frequently used positive verbs are:\\n\\n', Counter(pos_verbs_list).most_common(5))\n",
    "        print('+'*100)       \n",
    "        \n",
    "elif max_sent <= -0.5:\n",
    "        print('-'*100)\n",
    "        print('The text has a negative statement.\\n', '\\nThe most frequently used nouns are:\\n\\n',Counter(nouns).most_common(5), '\\n\\nThe most frequently used negative adjectives are:\\n\\n', Counter(neg_adj_list).most_common(5), '\\n\\nThe most frequently used negative verbs are:\\n\\n', Counter(neg_verbs_list).most_common(5))\n",
    "        print('-'*100)\n",
    "            \n",
    "else:\n",
    "        print('.'*100)\n",
    "        print('The text has a neutral statement.\\n', '\\nThe most frequently used nouns are:\\n\\n',Counter(nouns).most_common(5), '\\n\\nThe most frequently used neutral adjectives are:\\n\\n', Counter(neu_adj_list).most_common(5), '\\n\\nThe most frequently used neutral verbs are:\\n\\n', Counter(neu_verbs_list).most_common(5))\n",
    "        print('.'*100)"
   ]
  },
  {
   "cell_type": "code",
   "execution_count": null,
   "metadata": {
    "collapsed": true
   },
   "outputs": [],
   "source": []
  },
  {
   "cell_type": "code",
   "execution_count": null,
   "metadata": {
    "collapsed": true
   },
   "outputs": [],
   "source": []
  }
 ],
 "metadata": {
  "kernelspec": {
   "display_name": "Python 3",
   "language": "python",
   "name": "python3"
  },
  "language_info": {
   "codemirror_mode": {
    "name": "ipython",
    "version": 3
   },
   "file_extension": ".py",
   "mimetype": "text/x-python",
   "name": "python",
   "nbconvert_exporter": "python",
   "pygments_lexer": "ipython3",
   "version": "3.6.3"
  }
 },
 "nbformat": 4,
 "nbformat_minor": 2
}
