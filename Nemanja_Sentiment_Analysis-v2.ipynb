{
 "cells": [
  {
   "cell_type": "markdown",
   "metadata": {},
   "source": [
    "# Import the necessary modules"
   ]
  },
  {
   "cell_type": "code",
   "execution_count": 22,
   "metadata": {
    "collapsed": true
   },
   "outputs": [],
   "source": [
    "##########################\n",
    "#Importing necessary Modules\n",
    "##########################\n",
    "import urllib.request as urllib2 # to download websites\n",
    "\n",
    "import numpy as np\n",
    "\n",
    "import re\n",
    "import nltk.corpus\n",
    "import nltk\n",
    "import matplotlib.pyplot as plt\n",
    "\n",
    "\n",
    "import matplotlib.pyplot as plt\n",
    "import pandas as pd\n",
    "from pandas import DataFrame\n",
    "import pandas\n",
    "\n",
    "from bs4 import BeautifulSoup # to parse the websites\n",
    "from nltk.sentiment.vader import SentimentIntensityAnalyzer\n",
    "\n",
    "from nltk.tokenize import PunktSentenceTokenizer\n",
    "from nltk.tokenize import word_tokenize\n",
    "from nltk.corpus import stopwords\n",
    "\n",
    "from nltk.stem import PorterStemmer\n",
    "from nltk import FreqDist\n",
    "from nltk.probability import FreqDist\n",
    "\n",
    "from textblob import TextBlob\n",
    "from textblob import TextBlob, Word\n",
    "from collections import Counter\n",
    "\n",
    "from nltk.tokenize import word_tokenize\n",
    "\n",
    "from nltk.tag import pos_tag\n",
    "from pylab import *\n",
    "\n"
   ]
  },
  {
   "cell_type": "markdown",
   "metadata": {},
   "source": [
    "# Get text data from the webpage"
   ]
  },
  {
   "cell_type": "code",
   "execution_count": 36,
   "metadata": {
    "collapsed": true
   },
   "outputs": [],
   "source": [
    "# Extracting the text from the page\n",
    "\n",
    "url = \"http://edition.cnn.com/2018/01/21/politics/macron-trump-relationship-intl/index.html\"\n",
    "html = urllib2.urlopen(url).read()\n",
    "\n",
    "# Using BeautifulSoap\n",
    "\n",
    "soup = BeautifulSoup(html, \"html.parser\")\n",
    "for line in soup([\"script\", \"style\"]):     \n",
    "    line.extract()\n",
    "    \n",
    "    \n",
    "text = soup.get_text()\n",
    "\n",
    "text1 = str(text)\n"
   ]
  },
  {
   "cell_type": "markdown",
   "metadata": {},
   "source": [
    "# Process the text"
   ]
  },
  {
   "cell_type": "code",
   "execution_count": 24,
   "metadata": {
    "collapsed": true
   },
   "outputs": [],
   "source": [
    "#tokenize all the words and remove the stop words\n",
    "words_punt=  [word.lower() for word in word_tokenize(text) if word not in stopwords.words(\"english\")]\n",
    "#removes punctuations and special charechters\n",
    "words = [word for word in words_punt if word.isalpha()]\n",
    "\n",
    "\n"
   ]
  },
  {
   "cell_type": "markdown",
   "metadata": {},
   "source": [
    "# Frequency Calculation"
   ]
  },
  {
   "cell_type": "code",
   "execution_count": 25,
   "metadata": {},
   "outputs": [
    {
     "name": "stdout",
     "output_type": "stream",
     "text": [
      "                        Words  Frequency\n",
      "0                      macron         14\n",
      "1                      direct          4\n",
      "2                relationship          4\n",
      "3                       trump         19\n",
      "4         cnnpoliticsbreaking          1\n",
      "5  ninetrumpmericastatesearch          1\n",
      "6                      french          3\n",
      "7                   president          5\n",
      "8                          by          1\n",
      "9                      sheena          1\n"
     ]
    }
   ],
   "source": [
    "# frequency distribution of words\n",
    "\n",
    "# A dataframe with words and frequency\n",
    "\n",
    "\n",
    "counts = Counter(words)\n",
    "dic = {'Words': list(counts.keys()), 'Frequency':list(counts.values())}\n",
    "import pandas as pd\n",
    "\n",
    "\n",
    "df = pd.DataFrame(dic, columns=['Words','Frequency'] )\n",
    "\n",
    "# The table for frequency-plotting\n",
    "\n",
    "dfs= df.sort_values(['Frequency', 'Words'], ascending = False)\n",
    "df10 = df.head(10)\n",
    "print(df10)"
   ]
  },
  {
   "cell_type": "code",
   "execution_count": 26,
   "metadata": {},
   "outputs": [
    {
     "data": {
      "image/png": "[encoded data removed]",
      "text/plain": [
       "<matplotlib.figure.Figure at 0x23c18d0>"
      ]
     },
     "metadata": {},
     "output_type": "display_data"
    }
   ],
   "source": [
    "items = df10['Words']\n",
    "y_pos = np.arange(len(items))\n",
    "scores = df10['Frequency']\n",
    "plt.barh(y_pos, scores)\n",
    "plt.title('Frequencies of words presented by a diagram')\n",
    "plt.ylabel('Words')\n",
    "plt.yticks(y_pos, items)\n",
    "plt.xlabel('Frequencies')\n",
    "plt.show()\n"
   ]
  },
  {
   "cell_type": "markdown",
   "metadata": {},
   "source": [
    "# Calculate the sentiment"
   ]
  },
  {
   "cell_type": "code",
   "execution_count": 65,
   "metadata": {},
   "outputs": [
    {
     "name": "stdout",
     "output_type": "stream",
     "text": [
      "{'neg': 0.05, 'neu': 0.849, 'pos': 0.101, 'compound': 0.9901}\n",
      "++++++++++++++++++++++++++++++++++++++++++++++++++++++++++++++++++++++++++++++++++++++++++++++++++++\n",
      "The text has a positive statement.\n",
      "++++++++++++++++++++++++++++++++++++++++++++++++++++++++++++++++++++++++++++++++++++++++++++++++++++\n"
     ]
    }
   ],
   "source": [
    "# Calculating the sentiment in order to see, whether the text has more positive, negative or neutral words\n",
    "\n",
    "analyser = SentimentIntensityAnalyzer()\n",
    "def print_sentiment_scores(sentence):\n",
    "    snt = analyser.polarity_scores(sentence)\n",
    "    print(snt)\n",
    "    return snt\n",
    "    \n",
    "\n",
    "snt = print_sentiment_scores(text)\n",
    "\n",
    "if snt['compound']>0.5:\n",
    "        print('+'*100)\n",
    "        print('The text has a positive statement.')\n",
    "        print('+'*100)       \n",
    "if snt['compound']<=-0.5:\n",
    "        print('-'*100)\n",
    "        print('The text has a negative statement.')\n",
    "        print('-'*100)\n",
    "if snt['compound']>-0.5 and snt['neu']<0.5:\n",
    "        print('.'*100)\n",
    "        print('The text has a neutral statement.')\n",
    "        print('.'*100)\n",
    "\n"
   ]
  },
  {
   "cell_type": "code",
   "execution_count": null,
   "metadata": {},
   "outputs": [],
   "source": [
    "\n",
    "\n"
   ]
  },
  {
   "cell_type": "markdown",
   "metadata": {},
   "source": [
    "# Positive and Negative sentiment words"
   ]
  },
  {
   "cell_type": "code",
   "execution_count": 28,
   "metadata": {},
   "outputs": [
    {
     "name": "stdout",
     "output_type": "stream",
     "text": [
      "Positive: ['humoring', 'agreement', 'strong', 'agreement', 'good', 'good', 'opportunity', 'agreement', 'best', 'save', 'respect', 'strong', 'desire', 'friends', 'interest', 'enjoying', 'strength']\n",
      "Negative: ['fail', 'disagreed', 'mistake', 'criticized', 'frustrations', 'humiliations', 'foes', 'disagreements', 'distracted']\n"
     ]
    }
   ],
   "source": [
    "\n",
    "sid = SentimentIntensityAnalyzer()\n",
    "pwl=[]\n",
    "nwl=[]\n",
    "\n",
    "# Setting the value of the words,the less it is, the more words will show up, but it won't be so accurate that way \n",
    "\n",
    "for word in words:\n",
    "    if (sid.polarity_scores(word)['compound']) >= 0.3:\n",
    "        pwl.append(word)\n",
    "    elif (sid.polarity_scores(word)['compound']) <= -0.3:\n",
    "        nwl.append(word)\n",
    "    \n",
    "print('Positive:', pwl)\n",
    "print('Negative:', nwl)"
   ]
  },
  {
   "cell_type": "markdown",
   "metadata": {},
   "source": [
    "# Part of speech tagging"
   ]
  },
  {
   "cell_type": "code",
   "execution_count": 29,
   "metadata": {},
   "outputs": [],
   "source": [
    "#part of speech tagging\n",
    "pst= nltk.pos_tag(words)"
   ]
  },
  {
   "cell_type": "markdown",
   "metadata": {},
   "source": [
    "# Adjectives in the list"
   ]
  },
  {
   "cell_type": "code",
   "execution_count": 30,
   "metadata": {},
   "outputs": [
    {
     "name": "stdout",
     "output_type": "stream",
     "text": [
      "['direct', 'ninetrumpmericastatesearch', 'french', 'direct', 'sheena', 'jordan', 'gmt', 'messenger', 'happening', 'macronreplaymore', 'emmanuel', 'first', 'prolonged', 'french', 'trump', 'forceful', 'light', 'direct', 'i', 'direct', 'i', 'i', 'british', 'trump', 'classical', 'paris', 'last', 'strong', 'several', 'paris', 'withdraw', 'good', 'good', 'big', 'new', 'join', 'loop', 'global', 'celsius', 'former', 'best', 'lengthy', 'certain', 'respect', 'east', 'due', 'due', 'replied', 'mix', 'personal', 'political', 'small', 'french', 'strong', 'white', 'mutual', 'old', 'international', 'new', 'second', 'iran', 'interpreter', 'places', 'common', 'london', 'distracted', 'internal', 'cnn']\n"
     ]
    }
   ],
   "source": [
    "mylist_adj = []\n",
    "for list in pst:\n",
    "    (a,b) = list\n",
    "    if b in ['JJ', 'JJR', 'JJS']:\n",
    "         mylist_adj.append(str(list[0]))\n",
    "print(mylist_adj)"
   ]
  },
  {
   "cell_type": "markdown",
   "metadata": {},
   "source": [
    "# Nouns in the list"
   ]
  },
  {
   "cell_type": "code",
   "execution_count": 31,
   "metadata": {},
   "outputs": [
    {
     "name": "stdout",
     "output_type": "stream",
     "text": [
      "['macron', 'relationship', 'trump', 'president', 'macron', 'relationship', 'trump', 'mckenzie', 'amanda', 'coakley', 'hkt', 'january', 'world', 'videos', 'macron', 'meeting', 'brussels', 'handshake', 'months', 'president', 'macron', 'president', 'continue', 'sunday', 'relationship', 'trump', 'andrew', 'leaders', 'frank', 'manage', 'convince', 'macron', 'talk', 'politician', 'people', 'agreement', 'moremacron', 'year', 'leaders', 'relationship', 'topics', 'agreement', 'climate', 'change', 'trump', 'plans', 'terms', 'treaty', 'people', 'warns', 'opportunityreplaymore', 'videos', 'warns', 'opportunity', 'i', 'mistake', 'i', 'negotiation', 'china', 'macron', 'paris', 'agreement', 'signatories', 'carbon', 'output', 'degrees', 'president', 'barack', 'obama', 'chance', 'planet', 'things', 'country', 'world', 'accord', 'withdrawal', 'process', 'word', 'use', 'macron', 'trump', 'use', 'word', 'countries', 'immigration', 'lawmakers', 'month', 'year', 'trump', 'everything', 'word', 'use', 'macron', 'trump', 'comment', 'countries', 'lot', 'issues', 'africa', 'lot', 'frustrations', 'lot', 'humiliations', 'opinion', 'trump', 'tweets', 'people', 'situation', 'tweets', 'reaction', 'macron', 'trump', 'interpreter', 'europe', 'club', 'leaders', 'office', 'trump', 'president', 'advantage', 'ties', 'house', 'desire', 'change', 'status', 'trump', 'year', 'diplomacy', 'friends', 'foes', 'allies', 'onessince', 'brussels', 'highs', 'dinner', 'wives', 'eiffel', 'tower', 'disagreements', 'climate', 'change', 'macron', 'aides', 'views', 'europe', 'brash', 'pronouncements', 'interest', 'leaders', 'politics', 'coalition', 'negotiations', 'brexit', 'ties', 'strength', 'cnn', 'kevin', 'liptak', 'dan', 'merica', 'report', 'cable', 'news', 'network', 'turner', 'broadcasting', 'system', 'rights', 'sans', 'cable', 'news', 'service', 'privacy', 'guidelines', 'adchoices']\n"
     ]
    }
   ],
   "source": [
    "mylist_nouns = []\n",
    "for list in pst:\n",
    "    (a,b) = list\n",
    "    if b in ['NN', 'NNP', 'NNS', 'NNPS']:\n",
    "         mylist_nouns.append(str(list[0]))\n",
    "print(mylist_nouns)"
   ]
  },
  {
   "cell_type": "markdown",
   "metadata": {},
   "source": [
    "# Positive and Negative adjectives"
   ]
  },
  {
   "cell_type": "code",
   "execution_count": 32,
   "metadata": {},
   "outputs": [
    {
     "name": "stdout",
     "output_type": "stream",
     "text": [
      "Positive : ['strong', 'good', 'good', 'best', 'respect', 'strong']\n",
      "Negative : ['distracted']\n"
     ]
    }
   ],
   "source": [
    "mylist_adj\n",
    "\n",
    "sid = SentimentIntensityAnalyzer()\n",
    "pos_adj_list=[]\n",
    "neg_adj_list=[]\n",
    "\n",
    "# Setting the value of the words,the less it is, the more words will show up, but it won't be so accurate that way \n",
    "\n",
    "for word in mylist_adj:\n",
    "    if (sid.polarity_scores(word)['compound']) >= 0.3:\n",
    "        pos_adj_list.append(word)\n",
    "    elif (sid.polarity_scores(word)['compound']) <= -0.3:\n",
    "        neg_adj_list.append(word)\n",
    "\n",
    "# Printing\n",
    "\n",
    "print('Positive :',pos_adj_list)          \n",
    "print('Negative :',neg_adj_list)"
   ]
  },
  {
   "cell_type": "code",
   "execution_count": 33,
   "metadata": {},
   "outputs": [
    {
     "name": "stdout",
     "output_type": "stream",
     "text": [
      "Positive : ['agreement', 'agreement', 'opportunity', 'agreement', 'desire', 'friends', 'interest', 'strength']\n",
      "Negative : ['mistake', 'frustrations', 'humiliations', 'foes', 'disagreements']\n"
     ]
    }
   ],
   "source": [
    "mylist_nouns\n",
    "\n",
    "sid = SentimentIntensityAnalyzer()\n",
    "pos_nouns_list=[]\n",
    "neg_nouns_list=[]\n",
    "\n",
    "# Setting the value of the words,the less it is, the more words will show up, but it won't be so accurate that way \n",
    "\n",
    "for word in mylist_nouns:\n",
    "    if (sid.polarity_scores(word)['compound']) >= 0.3:\n",
    "        pos_nouns_list.append(word)\n",
    "    elif (sid.polarity_scores(word)['compound']) <= -0.3:\n",
    "        neg_nouns_list.append(word)\n",
    "\n",
    "# Printing\n",
    "\n",
    "print('Positive :',pos_nouns_list)          \n",
    "print('Negative :',neg_nouns_list)"
   ]
  },
  {
   "cell_type": "code",
   "execution_count": 58,
   "metadata": {},
   "outputs": [
    {
     "name": "stdout",
     "output_type": "stream",
     "text": [
      "Requirement already up-to-date: vaderSentiment in c:\\programdata\\anaconda3\\lib\\site-packages\n"
     ]
    }
   ],
   "source": [
    "!pip install --upgrade vaderSentiment\n"
   ]
  },
  {
   "cell_type": "code",
   "execution_count": null,
   "metadata": {},
   "outputs": [],
   "source": [
    "\n",
    "\n"
   ]
  },
  {
   "cell_type": "code",
   "execution_count": null,
   "metadata": {
    "collapsed": true
   },
   "outputs": [],
   "source": []
  },
  {
   "cell_type": "code",
   "execution_count": null,
   "metadata": {
    "collapsed": true
   },
   "outputs": [],
   "source": []
  }
 ],
 "metadata": {
  "kernelspec": {
   "display_name": "Python 3",
   "language": "python",
   "name": "python3"
  },
  "language_info": {
   "codemirror_mode": {
    "name": "ipython",
    "version": 3
   },
   "file_extension": ".py",
   "mimetype": "text/x-python",
   "name": "python",
   "nbconvert_exporter": "python",
   "pygments_lexer": "ipython3",
   "version": "3.6.3"
  }
 },
 "nbformat": 4,
 "nbformat_minor": 2
}
