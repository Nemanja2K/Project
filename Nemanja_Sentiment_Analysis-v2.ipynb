{
 "cells": [
  {
   "cell_type": "markdown",
   "metadata": {},
   "source": [
    "# Import the necessary modules"
   ]
  },
  {
   "cell_type": "code",
   "execution_count": 1,
   "metadata": {
    "collapsed": true
   },
   "outputs": [],
   "source": [
    "##########################\n",
    "#Importing necessary Modules\n",
    "##########################\n",
    "import urllib.request as urllib2 # to download websites\n",
    "\n",
    "import numpy as np\n",
    "\n",
    "import re\n",
    "import nltk.corpus\n",
    "import nltk\n",
    "import matplotlib.pyplot as plt\n",
    "\n",
    "\n",
    "import matplotlib.pyplot as plt\n",
    "import pandas as pd\n",
    "from pandas import DataFrame\n",
    "import pandas\n",
    "import collections\n",
    "\n",
    "from bs4 import BeautifulSoup # to parse the websites\n",
    "from nltk.sentiment.vader import SentimentIntensityAnalyzer\n",
    "\n",
    "from nltk.tokenize import PunktSentenceTokenizer\n",
    "from nltk.tokenize import word_tokenize\n",
    "from nltk.corpus import stopwords\n",
    "\n",
    "from nltk.stem import PorterStemmer\n",
    "from nltk import FreqDist\n",
    "from nltk.probability import FreqDist\n",
    "\n",
    "from textblob import TextBlob\n",
    "from textblob import TextBlob, Word\n",
    "from collections import Counter\n",
    "\n",
    "from nltk.tokenize import word_tokenize\n",
    "\n",
    "from nltk.tag import pos_tag\n",
    "from pylab import *\n",
    "\n"
   ]
  },
  {
   "cell_type": "markdown",
   "metadata": {},
   "source": [
    "# Get text data from the webpage"
   ]
  },
  {
   "cell_type": "code",
   "execution_count": 2,
   "metadata": {},
   "outputs": [],
   "source": [
    "# Extracting the text from the page\n",
    "\n",
    "#url = \"http://edition.cnn.com/2018/01/21/politics/macron-trump-relationship-intl/index.html\"\n",
    "#url = \"http://edition.cnn.com/2018/01/29/asia/cambodia-arrests-intl/index.html?iid=ob_lockedrail_topeditorial\"\n",
    "#url = \"https://www.state.gov/r/pa/prs/ps/2017/12/276632.htm\"\n",
    "#url = \"http://www.bbc.com/news/uk-england-lancashire-42857155\"\n",
    "#url = \"http://www.bbc.com/sport/tennis/42852967\"\n",
    "#url = \"https://www.stopbullying.gov/what-is-bullying/index.html\"\n",
    "#url = \"http://www.bbc.com/news/world-europe-34818994\"\n",
    "#url = \"http://longnow.org/essays/technology-moving-too-fast/\"\n",
    "#url = \"https://en.wikipedia.org/wiki/Child_abuse\"\n",
    "#url = \"https://www.gatesnotes.com/Saving-Lives\"\n",
    "#url = \"http://www.dictionary.com/browse/pencil?s=t\"\n",
    "\n",
    "#url = \"https://www.snopes.com/dog-saves-abandoned-newborn/\"\n",
    "#url = \"https://journals.lww.com/ajnonline/Abstract/2016/10000/Helping_Elders__Age_in_Place_.15.aspx\"\n",
    "#url = \"http://www.redcross.ca/how-we-help/international-programs/maternal--newborn-and-child-health/long-term-maternal--newborn-and-child-health-programs/maternal--newborn-and-child-health-in-africa\"\n",
    "#url = \"https://gentwenty.com/role-modeling-paving-the-way-for-younger-siblings/\"\n",
    "#url = \"http://www.missbizibee.com/golden-celebration-60th-birthday-party-ideas-mom/\"\n",
    "#url = \"https://www.lifesitenews.com/news/canadian-bishops-call-for-law-to-offer-protection-for-the-lives-of-the-unbo\"\n",
    "#url = \"https://www.nature.com/scitable/knowledge/library/factors-affecting-global-climate-17079163\"\n",
    "#url = \"https://www.thesun.co.uk/news/3799392/grenfell-tower-fire-victims-death-toll-how-many-died-london/\"\n",
    "url = \"http://darkoutpost.com/history/the-real-story-behind-the-texas-chainsaw-massacre-the-notorious-killer-ed-gein/\"\n",
    "#url = \"https://www.snopes.com/creepy-clown-haunted-house-massacre/\"\n",
    "#url = \"https://www.forbes.com/sites/jamesconca/2013/09/29/forget-eagle-deaths-wind-turbines-kill-humans/#2aed68c05467\"\n",
    "#url = \"https://en.wikipedia.org/wiki/Silver_(color)\"\n",
    "#url = \"https://en.wikipedia.org/wiki/Wood\"\n",
    "#url = \"https://en.wikipedia.org/wiki/Glass\"\n",
    "#url = \"https://en.wikipedia.org/wiki/Picture_frame\"\n",
    "#url = \"https://en.wikipedia.org/wiki/Door\"\n",
    "html = urllib2.urlopen(url).read()\n",
    "\n",
    "# Using BeautifulSoap\n",
    "\n",
    "soup = BeautifulSoup(html, \"html.parser\")\n",
    "for line in soup([\"script\", \"style\"]):     \n",
    "    line.extract()\n",
    "    \n",
    "    \n",
    "text = soup.get_text()\n",
    "\n",
    "text1 = str(text)\n"
   ]
  },
  {
   "cell_type": "markdown",
   "metadata": {},
   "source": [
    "# Process the text"
   ]
  },
  {
   "cell_type": "code",
   "execution_count": 3,
   "metadata": {},
   "outputs": [],
   "source": [
    "#tokenize all the words and remove the stop words\n",
    "words_punt=  [word.lower() for word in word_tokenize(text) if word not in stopwords.words(\"english\")]\n",
    "#removes punctuations and special charechters\n",
    "words = [word for word in words_punt if word.isalpha()]\n",
    "\n",
    "\n"
   ]
  },
  {
   "cell_type": "markdown",
   "metadata": {},
   "source": [
    "# Frequency Calculation"
   ]
  },
  {
   "cell_type": "code",
   "execution_count": 4,
   "metadata": {},
   "outputs": [
    {
     "name": "stdout",
     "output_type": "stream",
     "text": [
      "       Words  Frequency\n",
      "0        the         14\n",
      "1       real          2\n",
      "2      story          3\n",
      "3     behind          2\n",
      "4      texas          4\n",
      "5   chainsaw          5\n",
      "6   massacre          3\n",
      "7  notorious          2\n",
      "8     killer          4\n",
      "9         ed         27\n"
     ]
    }
   ],
   "source": [
    "# frequency distribution of words\n",
    "\n",
    "# A dataframe with words and frequency\n",
    "\n",
    "\n",
    "counts = Counter(words)\n",
    "dic = {'Words':list(counts.keys()), 'Frequency':list(counts.values())}\n",
    "import pandas as pd\n",
    "\n",
    "\n",
    "df = pd.DataFrame(dic, columns=['Words','Frequency'] )\n",
    "\n",
    "# The table for frequency-plotting\n",
    "\n",
    "dfs= df.sort_values(['Frequency', 'Words'], ascending = False)\n",
    "df10 = df.head(10)\n",
    "print(df10)"
   ]
  },
  {
   "cell_type": "markdown",
   "metadata": {},
   "source": [
    "# Calculate the sentiment"
   ]
  },
  {
   "cell_type": "code",
   "execution_count": 5,
   "metadata": {},
   "outputs": [
    {
     "data": {
      "image/png": "[encoded data removed]",
      "text/plain": [
       "<matplotlib.figure.Figure at 0x21e73c8>"
      ]
     },
     "metadata": {},
     "output_type": "display_data"
    }
   ],
   "source": [
    "items = df10['Words']\n",
    "y_pos = np.arange(len(items))\n",
    "scores = df10['Frequency']\n",
    "plt.barh(y_pos, scores)\n",
    "plt.title('Frequencies of words presented by a diagram')\n",
    "plt.ylabel('Words')\n",
    "plt.yticks(y_pos, items)\n",
    "plt.xlabel('Frequencies')\n",
    "plt.show()\n"
   ]
  },
  {
   "cell_type": "markdown",
   "metadata": {},
   "source": [
    "# Positive and Negative sentiment words"
   ]
  },
  {
   "cell_type": "code",
   "execution_count": 6,
   "metadata": {},
   "outputs": [
    {
     "name": "stdout",
     "output_type": "stream",
     "text": [
      "Positive: ['inspired', 'true', 'inspired', 'inspiration', 'inspiration', 'laugh', 'fond', 'friends', 'loved', 'played', 'devotion', 'ensure', 'alive', 'fondness', 'determined', 'capable', 'inspiration', 'novel', 'desire', 'hand', 'truth', 'like']\n",
      "Negative: ['notorious', 'killer', 'murder', 'killing', 'torture', 'murder', 'notorious', 'killer', 'horror', 'difficult', 'maniac', 'killer', 'loner', 'suffered', 'abuse', 'severe', 'despised', 'tension', 'fear', 'fear', 'forbidden', 'punished', 'died', 'failure', 'die', 'fire', 'death', 'insane', 'death', 'abusive', 'devastated', 'death', 'died', 'odd', 'guilty', 'insanity', 'incompetent', 'insane', 'guilty', 'guilty', 'insanity', 'insane', 'died', 'grave', 'rob', 'devil', 'rejects', 'guilty', 'kill', 'brutal', 'murder', 'kills', 'dumps', 'horrific', 'abuse', 'death', 'cries', 'fatally', 'war', 'killer', 'arrested', 'killing', 'war', 'guilty', 'kill', 'murder', 'killing', 'torture', 'disturbing']\n"
     ]
    }
   ],
   "source": [
    "\n",
    "sid = SentimentIntensityAnalyzer()\n",
    "pwl=[]\n",
    "nwl=[]\n",
    "\n",
    "# Setting the value of the words,the less it is, the more words will show up, but it won't be so accurate that way \n",
    "\n",
    "for word in words:\n",
    "    if (sid.polarity_scores(word)['compound']) >= 0.3:\n",
    "        pwl.append(word)\n",
    "    elif (sid.polarity_scores(word)['compound']) <= -0.3:\n",
    "        nwl.append(word)\n",
    "    \n",
    "print('Positive:', pwl)\n",
    "print('Negative:', nwl)"
   ]
  },
  {
   "cell_type": "markdown",
   "metadata": {},
   "source": [
    "# Part of speech tagging"
   ]
  },
  {
   "cell_type": "code",
   "execution_count": 7,
   "metadata": {},
   "outputs": [],
   "source": [
    "#part of speech tagging\n",
    "pst= nltk.pos_tag(words)"
   ]
  },
  {
   "cell_type": "markdown",
   "metadata": {},
   "source": [
    "# Verbs in the list"
   ]
  },
  {
   "cell_type": "code",
   "execution_count": 8,
   "metadata": {},
   "outputs": [
    {
     "name": "stdout",
     "output_type": "stream",
     "text": [
      "['massacre', 'dark', 'outpost', 'breaking', 'massacre', 'revolutionized', 'inspired', 'began', 'wielding', 'living', 'deranged', 'texas', 'said', 'taken', 'wrapped', 'making', 'chainsaw', 'born', 'lived', 'born', 'suffered', 'hands', 'classmates', 'remember', 'unnerving', 'told', 'hear', 'hold', 'despised', 'creating', 'shaping', 'fond', 'preaching', 'instilled', 'ed', 'hidden', 'secluded', 'kept', 'punished', 'making', 'reminded', 'loved', 'died', 'die', 'revolving', 'proven', 'played', 'left', 'devastated', 'remained', 'ensure', 'remain', 'died', 'confining', 'became', 'ed', 'took', 'remained', 'unsuspecting', 'revealed', 'found', 'began', 'see', 'searched', 'found', 'decapitated', 'hanging', 'barn', 'found', 'remains', 'including', 'made', 'covered', 'bedposts', 'trait', 'links', 'ed', 'turning', 'found', 'made', 'ed', 'pleaded', 'found', 'sent', 'insane', 'determined', 'standing', 'found', 'regarding', 'found', 'returned', 'died', 'buried', 'vandalized', 'found', 'robert', 'used', 'went', 'adapted', 'alfred', 'went', 'see', 'portrayed', 'deranged', 'rejects', 'overbearing', 'ed', 'accessorizing', 'leave', 'reply', 'reply', 'published', 'marked', 'posts', 'was', 'found', 'did', 'charlie', 'kill', 'raking', 'speak', 'kills', 'stashes', 'dumps', 'reveal', 'sentenced', 'uses', 'quiet', 'cops', 'exorcisms', 'gone', 'ivanka', 'arrested', 'confessed', 'killing', 'found', 'did', 'charlie', 'kill', 'archives', 'april', 'killing', 'featured', 'america', 'follow', 'dark']\n"
     ]
    }
   ],
   "source": [
    "mylist_verbs = []\n",
    "for list in pst:\n",
    "    (a,b) = list\n",
    "    if b in ['VB', 'VBD', 'VBG', 'VBN', 'VBP', 'VBZ']:\n",
    "         mylist_verbs.append(str(list[0]))\n",
    "print(mylist_verbs)"
   ]
  },
  {
   "cell_type": "markdown",
   "metadata": {},
   "source": [
    "# Adjectives in the list"
   ]
  },
  {
   "cell_type": "code",
   "execution_count": 9,
   "metadata": {},
   "outputs": [
    {
     "name": "stdout",
     "output_type": "stream",
     "text": [
      "['real', 'notorious', 'video', 'heinous', 'sensational', 'serial', 'january', 'real', 'notorious', 'true', 'circulate', 'actual', 'madman', 'inspired', 'august', 'quick', 'difficult', 'actual', 'occur', 'actual', 'serial', 'key', 'infamous', 'plainfield', 'reclusive', 'alcoholic', 'religious', 'heavy', 'psychological', 'physical', 'ed', 'reclusive', 'strange', 'loud', 'ed', 'severe', 'heavy', 'strict', 'biblical', 'instrumental', 'ed', 'old', 'general', 'forbidden', 'daily', 'april', 'mysterious', 'many', 'suspect', 'ed', 'insane', 'abusive', 'mother', 'left', 'obsessed', 'nazis', 'odd', 'reclusive', 'full', 'gein', 'november', 'worden', 'suspect', 'last', 'alive', 'upside', 'various', 'human', 'trashcan', 'human', 'human', 'human', 'skin', 'corset', 'skin', 'young', 'arraigned', 'guilty', 'incompetent', 'central', 'capable', 'guilty', 'november', 'second', 'guilty', 'central', 'insane', 'plainfield', 'ed', 'subject', 'many', 'likeness', 'rob', 'nature', 'human', 'connect', 'cancel', 'required', 'recent', 'guilty', 'roommate', 'brutal', 'other', 'horrific', 'teen', 'natalie', 'recent', 'wrongdonald', 'pizzagatejohn', 'necrophiliac', 'serial', 'manson', 'guilty', 'january', 'december', 'november', 'october', 'august', 'february', 'january', 'heinous', 'sensational', 'serial', 'outpost', 'disturbing', 'human', 'unsealed', 'twitterfollow', 'powered']\n"
     ]
    }
   ],
   "source": [
    "mylist_adj = []\n",
    "for list in pst:\n",
    "    (a,b) = list\n",
    "    if b in ['JJ', 'JJR', 'JJS']:\n",
    "         mylist_adj.append(str(list[0]))\n",
    "print(mylist_adj)"
   ]
  },
  {
   "cell_type": "markdown",
   "metadata": {},
   "source": [
    "# Nouns in the list"
   ]
  },
  {
   "cell_type": "code",
   "execution_count": 10,
   "metadata": {},
   "outputs": [
    {
     "name": "stdout",
     "output_type": "stream",
     "text": [
      "['story', 'texas', 'chainsaw', 'killer', 'ed', 'gein', 'home', 'advertising', 'contact', 'news', 'acts', 'history', 'mass', 'murder', 'killing', 'torture', 'history', 'mass', 'murder', 'comments', 'story', 'texas', 'chainsaw', 'killer', 'ed', 'gein', 'tweet', 'director', 'tobe', 'hooper', 'horror', 'story', 'film', 'texas', 'chainsaw', 'massacre', 'film', 'release', 'rumors', 'chainsaw', 'family', 'town', 'events', 'place', 'check', 'date', 'reveals', 'film', 'days', 'base', 'film', 'event', 'maniac', 'film', 'inspiration', 'killer', 'ed', 'gein', 'inspiration', 'leatherface', 'wisconsin', 'ed', 'gein', 'life', 'loner', 'father', 'george', 'mother', 'augusta', 'ed', 'gein', 'abuse', 'parents', 'habits', 'habits', 'someone', 'joke', 'gein', 'alcoholic', 'job', 'father', 'george', 'wife', 'amount', 'tension', 'home', 'augusta', 'teachings', 'attitude', 'towards', 'women', 'testament', 'augusta', 'fear', 'god', 'sexuality', 'mistrust', 'women', 'brother', 'henry', 'family', 'farm', 'family', 'henry', 'ed', 'visitors', 'friends', 'brothers', 'basis', 'woman', 'george', 'heart', 'failure', 'years', 'henry', 'circumstances', 'fire', 'family', 'farm', 'role', 'brother', 'death', 'regardless', 'outlet', 'mother', 'devotion', 'death', 'december', 'relationship', 'ed', 'death', 'ed', 'family', 'farm', 'boarding', 'mother', 'room', 'day', 'room', 'kitchen', 'ed', 'reading', 'cannibals', 'jobs', 'extent', 'family', 'farm', 'years', 'items', 'home', 'disappearance', 'hardware', 'store', 'owner', 'bernice', 'police', 'ed', 'person', 'police', 'family', 'farm', 'body', 'search', 'property', 'authorities', 'skull', 'chairs', 'skin', 'skull', 'leatherface', 'fondness', 'apparel', 'remains', 'police', 'leggings', 'masks', 'women', 'november', 'reason', 'insanity', 'ed', 'state', 'hospital', 'november', 'doctors', 'trial', 'trial', 'sanity', 'reason', 'insanity', 'ed', 'state', 'hospital', 'july', 'cemetery', 'grave', 'gein', 'interpretations', 'bloch', 'inspiration', 'novel', 'psycho', 'screen', 'hitchcock', 'film', 'name', 'ed', 'film', 'zombie', 'house', 'corpses', 'devil', 's', 'isolationism', 'parents', 'desire', 'flesh', 'leatherface', 'http', 'tweet', 'email', 'address', 'fields', 'name', 'email', 'website', 'manson', 'family', 'anyone', 'amanda', 'knox', 'day', 'murder', 'report', 'man', 'women', 'family', 'farm', 'body', 'freezer', 'pond', 'cops', 'photos', 'abuse', 'finn', 'siblings', 'mother', 'daughter', 'starvation', 'death', 'boy', 'dies', 'dad', 'practice', 'cries', 'commentsmarisa', 'elskamp', 'mcelroy', 'war', 'woman', 'crusade', 'hand', 'look', 'killer', 'joel', 'rifkin', 'victimsthefinder', 'ivanka', 'war', 'woman', 'crusade', 'family', 'anyone', 'september', 'july', 'june', 'march', 'categories', 'acts', 'history', 'mass', 'murder', 'torture', 'dark', 'image', 'weekthe', 'manson', 'girls', 'video', 'experiments', 'everlinks', 'talks', 'radio', 'patriots', 'share', 'facebook', 'americatalks', 'wordpress']\n"
     ]
    }
   ],
   "source": [
    "mylist_nouns = []\n",
    "for list in pst:\n",
    "    (a,b) = list\n",
    "    if b in ['NN', 'NNP', 'NNS', 'NNPS']:\n",
    "         mylist_nouns.append(str(list[0]))\n",
    "print(mylist_nouns)"
   ]
  },
  {
   "cell_type": "markdown",
   "metadata": {},
   "source": [
    "# Positive and Negative verbs"
   ]
  },
  {
   "cell_type": "code",
   "execution_count": 11,
   "metadata": {},
   "outputs": [
    {
     "name": "stdout",
     "output_type": "stream",
     "text": [
      "Positive : ['inspired', 'fond', 'loved', 'played', 'ensure', 'determined']\n",
      "Negative : ['suffered', 'despised', 'punished', 'died', 'die', 'devastated', 'died', 'insane', 'died', 'rejects', 'kill', 'kills', 'dumps', 'arrested', 'killing', 'kill', 'killing']\n",
      "Neutral : ['massacre', 'dark', 'outpost', 'breaking', 'massacre', 'revolutionized', 'began', 'wielding', 'living', 'deranged', 'texas', 'said', 'taken', 'wrapped', 'making', 'chainsaw', 'born', 'lived', 'born', 'hands', 'classmates', 'remember', 'unnerving', 'told', 'hear', 'hold', 'creating', 'shaping', 'preaching', 'instilled', 'ed', 'hidden', 'secluded', 'kept', 'making', 'reminded', 'revolving', 'proven', 'left', 'remained', 'remain', 'confining', 'became', 'ed', 'took', 'remained', 'unsuspecting', 'revealed', 'found', 'began', 'see', 'searched', 'found', 'decapitated', 'hanging', 'barn', 'found', 'remains', 'including', 'made', 'covered', 'bedposts', 'trait', 'links', 'ed', 'turning', 'found', 'made', 'ed', 'pleaded', 'found', 'sent', 'standing', 'found', 'regarding', 'found', 'returned', 'buried', 'vandalized', 'found', 'robert', 'used', 'went', 'adapted', 'alfred', 'went', 'see', 'portrayed', 'deranged', 'overbearing', 'ed', 'accessorizing', 'leave', 'reply', 'reply', 'published', 'marked', 'posts', 'was', 'found', 'did', 'charlie', 'raking', 'speak', 'stashes', 'reveal', 'sentenced', 'uses', 'quiet', 'cops', 'exorcisms', 'gone', 'ivanka', 'confessed', 'found', 'did', 'charlie', 'archives', 'april', 'featured', 'america', 'follow', 'dark']\n",
      "[('inspired', 1), ('fond', 1), ('loved', 1), ('played', 1), ('ensure', 1), ('determined', 1)]\n"
     ]
    }
   ],
   "source": [
    "mylist_verbs\n",
    "\n",
    "sid = SentimentIntensityAnalyzer()\n",
    "pos_verbs_list=[]\n",
    "neg_verbs_list=[]\n",
    "neu_verbs_list=[]\n",
    "\n",
    "# Setting the value of the words,the less it is, the more words will show up, but it won't be so accurate that way \n",
    "\n",
    "for word in mylist_verbs:\n",
    "    if (sid.polarity_scores(word)['compound']) >= 0.3:\n",
    "        pos_verbs_list.append(word)\n",
    "    elif (sid.polarity_scores(word)['compound']) <= -0.3:\n",
    "        neg_verbs_list.append(word)\n",
    "    else:\n",
    "        neu_verbs_list.append(word)\n",
    "\n",
    "# Printing\n",
    "\n",
    "print('Positive :',pos_verbs_list)          \n",
    "print('Negative :',neg_verbs_list)\n",
    "print('Neutral :',neu_verbs_list)\n",
    "\n",
    "ca = Counter(pos_verbs_list)\n",
    "print(ca.most_common())"
   ]
  },
  {
   "cell_type": "markdown",
   "metadata": {},
   "source": [
    "# Positive and Negative adjectives"
   ]
  },
  {
   "cell_type": "code",
   "execution_count": 12,
   "metadata": {},
   "outputs": [
    {
     "name": "stdout",
     "output_type": "stream",
     "text": [
      "Positive : ['true', 'inspired', 'alive', 'capable']\n",
      "Negative : ['notorious', 'notorious', 'difficult', 'severe', 'forbidden', 'insane', 'abusive', 'odd', 'guilty', 'incompetent', 'guilty', 'guilty', 'insane', 'rob', 'guilty', 'brutal', 'horrific', 'guilty', 'disturbing']\n",
      "Neutral : ['real', 'video', 'heinous', 'sensational', 'serial', 'january', 'real', 'circulate', 'actual', 'madman', 'august', 'quick', 'actual', 'occur', 'actual', 'serial', 'key', 'infamous', 'plainfield', 'reclusive', 'alcoholic', 'religious', 'heavy', 'psychological', 'physical', 'ed', 'reclusive', 'strange', 'loud', 'ed', 'heavy', 'strict', 'biblical', 'instrumental', 'ed', 'old', 'general', 'daily', 'april', 'mysterious', 'many', 'suspect', 'ed', 'mother', 'left', 'obsessed', 'nazis', 'reclusive', 'full', 'gein', 'november', 'worden', 'suspect', 'last', 'upside', 'various', 'human', 'trashcan', 'human', 'human', 'human', 'skin', 'corset', 'skin', 'young', 'arraigned', 'central', 'november', 'second', 'central', 'plainfield', 'ed', 'subject', 'many', 'likeness', 'nature', 'human', 'connect', 'cancel', 'required', 'recent', 'roommate', 'other', 'teen', 'natalie', 'recent', 'wrongdonald', 'pizzagatejohn', 'necrophiliac', 'serial', 'manson', 'january', 'december', 'november', 'october', 'august', 'february', 'january', 'heinous', 'sensational', 'serial', 'outpost', 'human', 'unsealed', 'twitterfollow', 'powered']\n",
      "[('true', 1), ('inspired', 1), ('alive', 1), ('capable', 1)]\n"
     ]
    }
   ],
   "source": [
    "mylist_adj\n",
    "\n",
    "sid = SentimentIntensityAnalyzer()\n",
    "pos_adj_list=[]\n",
    "neg_adj_list=[]\n",
    "neu_adj_list=[]\n",
    "\n",
    "# Setting the value of the words,the less it is, the more words will show up, but it won't be so accurate that way \n",
    "\n",
    "for word in mylist_adj:\n",
    "    if (sid.polarity_scores(word)['compound']) >= 0.3:\n",
    "        pos_adj_list.append(word)\n",
    "    elif (sid.polarity_scores(word)['compound']) <= -0.3:\n",
    "        neg_adj_list.append(word)\n",
    "    else:\n",
    "        neu_adj_list.append(word)\n",
    "        \n",
    "# Printing\n",
    "\n",
    "print('Positive :',pos_adj_list)          \n",
    "print('Negative :',neg_adj_list)\n",
    "print('Neutral :',neu_adj_list)\n",
    "\n",
    "ca = Counter(pos_adj_list)\n",
    "print(ca.most_common())"
   ]
  },
  {
   "cell_type": "markdown",
   "metadata": {},
   "source": [
    "# Positive and Negative nouns"
   ]
  },
  {
   "cell_type": "code",
   "execution_count": 13,
   "metadata": {},
   "outputs": [
    {
     "name": "stdout",
     "output_type": "stream",
     "text": [
      "Positive : ['inspiration', 'inspiration', 'friends', 'devotion', 'fondness', 'inspiration', 'novel', 'desire', 'hand']\n",
      "Negative : ['killer', 'murder', 'killing', 'torture', 'murder', 'killer', 'horror', 'maniac', 'killer', 'loner', 'abuse', 'tension', 'fear', 'failure', 'fire', 'death', 'death', 'death', 'insanity', 'insanity', 'grave', 'devil', 'murder', 'abuse', 'death', 'cries', 'war', 'killer', 'war', 'murder', 'torture']\n",
      "Neutral : ['story', 'texas', 'chainsaw', 'ed', 'gein', 'home', 'advertising', 'contact', 'news', 'acts', 'history', 'mass', 'history', 'mass', 'comments', 'story', 'texas', 'chainsaw', 'ed', 'gein', 'tweet', 'director', 'tobe', 'hooper', 'story', 'film', 'texas', 'chainsaw', 'massacre', 'film', 'release', 'rumors', 'chainsaw', 'family', 'town', 'events', 'place', 'check', 'date', 'reveals', 'film', 'days', 'base', 'film', 'event', 'film', 'ed', 'gein', 'leatherface', 'wisconsin', 'ed', 'gein', 'life', 'father', 'george', 'mother', 'augusta', 'ed', 'gein', 'parents', 'habits', 'habits', 'someone', 'joke', 'gein', 'alcoholic', 'job', 'father', 'george', 'wife', 'amount', 'home', 'augusta', 'teachings', 'attitude', 'towards', 'women', 'testament', 'augusta', 'god', 'sexuality', 'mistrust', 'women', 'brother', 'henry', 'family', 'farm', 'family', 'henry', 'ed', 'visitors', 'brothers', 'basis', 'woman', 'george', 'heart', 'years', 'henry', 'circumstances', 'family', 'farm', 'role', 'brother', 'regardless', 'outlet', 'mother', 'december', 'relationship', 'ed', 'ed', 'family', 'farm', 'boarding', 'mother', 'room', 'day', 'room', 'kitchen', 'ed', 'reading', 'cannibals', 'jobs', 'extent', 'family', 'farm', 'years', 'items', 'home', 'disappearance', 'hardware', 'store', 'owner', 'bernice', 'police', 'ed', 'person', 'police', 'family', 'farm', 'body', 'search', 'property', 'authorities', 'skull', 'chairs', 'skin', 'skull', 'leatherface', 'apparel', 'remains', 'police', 'leggings', 'masks', 'women', 'november', 'reason', 'ed', 'state', 'hospital', 'november', 'doctors', 'trial', 'trial', 'sanity', 'reason', 'ed', 'state', 'hospital', 'july', 'cemetery', 'gein', 'interpretations', 'bloch', 'psycho', 'screen', 'hitchcock', 'film', 'name', 'ed', 'film', 'zombie', 'house', 'corpses', 's', 'isolationism', 'parents', 'flesh', 'leatherface', 'http', 'tweet', 'email', 'address', 'fields', 'name', 'email', 'website', 'manson', 'family', 'anyone', 'amanda', 'knox', 'day', 'report', 'man', 'women', 'family', 'farm', 'body', 'freezer', 'pond', 'cops', 'photos', 'finn', 'siblings', 'mother', 'daughter', 'starvation', 'boy', 'dies', 'dad', 'practice', 'commentsmarisa', 'elskamp', 'mcelroy', 'woman', 'crusade', 'look', 'joel', 'rifkin', 'victimsthefinder', 'ivanka', 'woman', 'crusade', 'family', 'anyone', 'september', 'july', 'june', 'march', 'categories', 'acts', 'history', 'mass', 'dark', 'image', 'weekthe', 'manson', 'girls', 'video', 'experiments', 'everlinks', 'talks', 'radio', 'patriots', 'share', 'facebook', 'americatalks', 'wordpress']\n"
     ]
    }
   ],
   "source": [
    "mylist_nouns\n",
    "\n",
    "sid = SentimentIntensityAnalyzer()\n",
    "pos_nouns_list=[]\n",
    "neg_nouns_list=[]\n",
    "neu_nouns_list=[]\n",
    "\n",
    "\n",
    "# Setting the value of the words,the less it is, the more words will show up, but it won't be so accurate that way \n",
    "\n",
    "for word in mylist_nouns:\n",
    "    if (sid.polarity_scores(word)['compound']) >= 0.3:\n",
    "        pos_nouns_list.append(word)\n",
    "    elif (sid.polarity_scores(word)['compound']) <= -0.3:\n",
    "        neg_nouns_list.append(word)\n",
    "    else:\n",
    "        neu_nouns_list.append(word)\n",
    "\n",
    "# Printing\n",
    "\n",
    "print('Positive :',pos_nouns_list)          \n",
    "print('Negative :',neg_nouns_list)\n",
    "print('Neutral :',neu_nouns_list)"
   ]
  },
  {
   "cell_type": "code",
   "execution_count": 15,
   "metadata": {},
   "outputs": [
    {
     "ename": "TypeError",
     "evalue": "'tuple' object is not callable",
     "output_type": "error",
     "traceback": [
      "\u001b[1;31m---------------------------------------------------------------------------\u001b[0m",
      "\u001b[1;31mTypeError\u001b[0m                                 Traceback (most recent call last)",
      "\u001b[1;32m<ipython-input-15-ccf31e7d4fe8>\u001b[0m in \u001b[0;36m<module>\u001b[1;34m()\u001b[0m\n\u001b[0;32m     13\u001b[0m \u001b[0mcounts_noun\u001b[0m\u001b[1;33m=\u001b[0m \u001b[0mCounter\u001b[0m\u001b[1;33m(\u001b[0m\u001b[0mnouns\u001b[0m\u001b[1;33m)\u001b[0m\u001b[1;33m\u001b[0m\u001b[0m\n\u001b[0;32m     14\u001b[0m \u001b[1;33m\u001b[0m\u001b[0m\n\u001b[1;32m---> 15\u001b[1;33m \u001b[0mdic\u001b[0m \u001b[1;33m=\u001b[0m \u001b[1;33m{\u001b[0m\u001b[1;34m'Nouns'\u001b[0m\u001b[1;33m:\u001b[0m\u001b[0mlist\u001b[0m\u001b[1;33m(\u001b[0m\u001b[0mcounts\u001b[0m\u001b[1;33m.\u001b[0m\u001b[0mkeys\u001b[0m\u001b[1;33m(\u001b[0m\u001b[1;33m)\u001b[0m\u001b[1;33m)\u001b[0m\u001b[1;33m,\u001b[0m \u001b[1;34m'Frequency'\u001b[0m\u001b[1;33m:\u001b[0m\u001b[0mlist\u001b[0m\u001b[1;33m(\u001b[0m\u001b[0mcounts\u001b[0m\u001b[1;33m.\u001b[0m\u001b[0mvalues\u001b[0m\u001b[1;33m(\u001b[0m\u001b[1;33m)\u001b[0m\u001b[1;33m)\u001b[0m\u001b[1;33m}\u001b[0m\u001b[1;33m\u001b[0m\u001b[0m\n\u001b[0m\u001b[0;32m     16\u001b[0m \u001b[1;32mimport\u001b[0m \u001b[0mpandas\u001b[0m \u001b[1;32mas\u001b[0m \u001b[0mpd\u001b[0m\u001b[1;33m\u001b[0m\u001b[0m\n\u001b[0;32m     17\u001b[0m \u001b[0mdf_noun\u001b[0m\u001b[1;33m=\u001b[0m \u001b[0mpd\u001b[0m\u001b[1;33m.\u001b[0m\u001b[0mDataFrame\u001b[0m\u001b[1;33m(\u001b[0m\u001b[0mdic\u001b[0m\u001b[1;33m,\u001b[0m \u001b[0mcolumns\u001b[0m\u001b[1;33m=\u001b[0m\u001b[1;33m[\u001b[0m\u001b[1;34m'Nouns'\u001b[0m\u001b[1;33m,\u001b[0m\u001b[1;34m'Frequency'\u001b[0m\u001b[1;33m]\u001b[0m\u001b[1;33m)\u001b[0m\u001b[1;33m\u001b[0m\u001b[0m\n",
      "\u001b[1;31mTypeError\u001b[0m: 'tuple' object is not callable"
     ]
    }
   ],
   "source": [
    "\n",
    "essays = pst\n",
    "nouns = [word for word,pos in pst\\\n",
    "\tif (pos == 'NN')]\n",
    "#print(nouns)\n",
    "#downcased = [x.lower() for x in nouns]\n",
    "#joined = \" \".join(downcased).encode('utf-8')\n",
    "#into_string = str(nouns)\n",
    "#print(nouns)\n",
    "#downcased = [x.lower() for x in nouns]\n",
    "#joined = \" \".join(downcased).encode('utf-8')\n",
    "#into_string = str(nouns)\n",
    "\n",
    "counts_noun= Counter(nouns)\n",
    "\n",
    "dic = {'Nouns':list(counts.keys()), 'Frequency':list(counts.values())}\n",
    "import pandas as pd\n",
    "df_noun= pd.DataFrame(dic, columns=['Nouns','Frequency'])\n",
    "dfs_noun = df_noun.sort_values(['Frequency', 'Nouns'], ascending = False)\n",
    "df5 = df.head(5)\n",
    "print(df5)\n",
    "\n"
   ]
  },
  {
   "cell_type": "code",
   "execution_count": 16,
   "metadata": {},
   "outputs": [
    {
     "name": "stdout",
     "output_type": "stream",
     "text": [
      "{'neg': 0.224, 'neu': 0.705, 'pos': 0.071, 'compound': -0.9997}\n",
      "neu\n",
      "neu\n",
      "....................................................................................................\n",
      "The text has a neutral statement.\n",
      " \n",
      "The most frequently 5 used nouns are:\n",
      "\n",
      " [('ed', 13), ('family', 10), ('gein', 7), ('film', 7), ('farm', 6)] \n",
      "\n",
      "The most frequently used neutral adjectives are:\n",
      "\n",
      " [('human', 6), ('ed', 5), ('serial', 4), ('january', 3), ('actual', 3), ('reclusive', 3), ('november', 3), ('real', 2), ('heinous', 2), ('sensational', 2)] \n",
      "\n",
      "The most frequently used neutral verbs are:\n",
      "\n",
      " [('human', 6), ('ed', 5), ('serial', 4), ('january', 3), ('actual', 3), ('reclusive', 3), ('november', 3), ('real', 2), ('heinous', 2), ('sensational', 2)]\n",
      "....................................................................................................\n"
     ]
    }
   ],
   "source": [
    "analyser = SentimentIntensityAnalyzer()\n",
    "def print_sentiment_scores(sentence):\n",
    "    snt = analyser.polarity_scores(sentence)\n",
    "    print(snt)\n",
    "#    return snt\n",
    "    \n",
    "    df= pd.DataFrame(snt,index=[0])\n",
    "    max_sent= df[['pos','neg','neu']].idxmax(axis=1)\n",
    "    print(max_sent[0])\n",
    "    return max_sent[0]\n",
    "#    print(snt)\n",
    "    \n",
    "\n",
    "max_sent = print_sentiment_scores(text)\n",
    "\n",
    "print(max_sent)\n",
    "\n",
    "if max_sent == 'pos':\n",
    "        print('+'*100)\n",
    "        print('The text has a positive statement.', '\\nThe most frequently 5 used nouns are: \\n\\n', Counter(nouns).most_common(5), '\\n\\nThe most frequently used positive adjectives are:\\n\\n', Counter(pos_adj_list).most_common(10), '\\nThe most frequently used positive verbs are:\\n\\n', Counter(pos_adj_list).most_common(10))\n",
    "        print('+'*100)       \n",
    "        \n",
    "elif max_sent == 'neg':\n",
    "        print('-'*100)\n",
    "        print('The text has a negative statement.\\n', '\\nThe most frequently 5 used nouns are:\\n\\n', Counter(nouns).most_common(5), '\\n\\nThe most frequently used negative adjectives are:\\n\\n', Counter(neg_adj_list).most_common(10), '\\nThe most frequently used negative verbs are:\\n\\n', Counter(neg_adj_list).most_common(10))\n",
    "        print('-'*100)\n",
    "            \n",
    "elif max_sent == 'neu':\n",
    "        print('.'*100)\n",
    "        print('The text has a neutral statement.\\n', '\\nThe most frequently 5 used nouns are:\\n\\n', Counter(nouns).most_common(5), '\\n\\nThe most frequently used neutral adjectives are:\\n\\n', Counter(neu_adj_list).most_common(10), '\\n\\nThe most frequently used neutral verbs are:\\n\\n', Counter(neu_adj_list).most_common(10))\n",
    "        print('.'*100)"
   ]
  },
  {
   "cell_type": "code",
   "execution_count": null,
   "metadata": {
    "collapsed": true
   },
   "outputs": [],
   "source": []
  }
 ],
 "metadata": {
  "kernelspec": {
   "display_name": "Python 3",
   "language": "python",
   "name": "python3"
  },
  "language_info": {
   "codemirror_mode": {
    "name": "ipython",
    "version": 3
   },
   "file_extension": ".py",
   "mimetype": "text/x-python",
   "name": "python",
   "nbconvert_exporter": "python",
   "pygments_lexer": "ipython3",
   "version": "3.6.3"
  }
 },
 "nbformat": 4,
 "nbformat_minor": 2
}
